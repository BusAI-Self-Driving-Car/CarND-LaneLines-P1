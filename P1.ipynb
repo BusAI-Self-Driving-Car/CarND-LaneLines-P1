{
 "cells": [
  {
   "cell_type": "markdown",
   "metadata": {},
   "source": [
    "# Self-Driving Car Engineer Nanodegree\n",
    "\n",
    "\n",
    "## Project: **Finding Lane Lines on the Road** \n",
    "***\n",
    "In this project, you will use the tools you learned about in the lesson to identify lane lines on the road.  You can develop your pipeline on a series of individual images, and later apply the result to a video stream (really just a series of images). Check out the video clip \"raw-lines-example.mp4\" (also contained in this repository) to see what the output should look like after using the helper functions below. \n",
    "\n",
    "Once you have a result that looks roughly like \"raw-lines-example.mp4\", you'll need to get creative and try to average and/or extrapolate the line segments you've detected to map out the full extent of the lane lines.  You can see an example of the result you're going for in the video \"P1_example.mp4\".  Ultimately, you would like to draw just one line for the left side of the lane, and one for the right.\n",
    "\n",
    "In addition to implementing code, there is a brief writeup to complete. The writeup should be completed in a separate file, which can be either a markdown file or a pdf document. There is a [write up template](https://github.com/udacity/CarND-LaneLines-P1/blob/master/writeup_template.md) that can be used to guide the writing process. Completing both the code in the Ipython notebook and the writeup template will cover all of the [rubric points](https://review.udacity.com/#!/rubrics/322/view) for this project.\n",
    "\n",
    "---\n",
    "Let's have a look at our first image called 'test_images/solidWhiteRight.jpg'.  Run the 2 cells below (hit Shift-Enter or the \"play\" button above) to display the image.\n",
    "\n",
    "**Note: If, at any point, you encounter frozen display windows or other confounding issues, you can always start again with a clean slate by going to the \"Kernel\" menu above and selecting \"Restart & Clear Output\".**\n",
    "\n",
    "---"
   ]
  },
  {
   "cell_type": "markdown",
   "metadata": {},
   "source": [
    "**The tools you have are color selection, region of interest selection, grayscaling, Gaussian smoothing, Canny Edge Detection and Hough Tranform line detection.  You  are also free to explore and try other techniques that were not presented in the lesson.  Your goal is piece together a pipeline to detect the line segments in the image, then average/extrapolate them and draw them onto the image for display (as below).  Once you have a working pipeline, try it out on the video stream below.**\n",
    "\n",
    "---\n",
    "\n",
    "<figure>\n",
    " <img src=\"examples/line-segments-example.jpg\" width=\"380\" alt=\"Combined Image\" />\n",
    " <figcaption>\n",
    " <p></p> \n",
    " <p style=\"text-align: center;\"> Your output should look something like this (above) after detecting line segments using the helper functions below </p> \n",
    " </figcaption>\n",
    "</figure>\n",
    " <p></p> \n",
    "<figure>\n",
    " <img src=\"examples/laneLines_thirdPass.jpg\" width=\"380\" alt=\"Combined Image\" />\n",
    " <figcaption>\n",
    " <p></p> \n",
    " <p style=\"text-align: center;\"> Your goal is to connect/average/extrapolate line segments to get output like this</p> \n",
    " </figcaption>\n",
    "</figure>"
   ]
  },
  {
   "cell_type": "markdown",
   "metadata": {},
   "source": [
    "**Run the cell below to import some packages.  If you get an `import error` for a package you've already installed, try changing your kernel (select the Kernel menu above --> Change Kernel).  Still have problems?  Try relaunching Jupyter Notebook from the terminal prompt.  Also, consult the forums for more troubleshooting tips.**  "
   ]
  },
  {
   "cell_type": "markdown",
   "metadata": {},
   "source": [
    "## Import Packages"
   ]
  },
  {
   "cell_type": "code",
   "execution_count": 1,
   "metadata": {},
   "outputs": [],
   "source": [
    "#importing some useful packages\n",
    "import matplotlib.pyplot as plt\n",
    "import matplotlib.image as mpimg\n",
    "import numpy as np\n",
    "import cv2\n",
    "import math\n",
    "import os\n",
    "%matplotlib inline"
   ]
  },
  {
   "cell_type": "markdown",
   "metadata": {},
   "source": [
    "## Read in an Image"
   ]
  },
  {
   "cell_type": "code",
   "execution_count": null,
   "metadata": {},
   "outputs": [],
   "source": [
    "#reading in an image\n",
    "image = mpimg.imread('test_images/solidWhiteRight.jpg')\n",
    "\n",
    "#printing out some stats and plotting\n",
    "print('This image is:', type(image), 'with dimensions:', image.shape)\n",
    "plt.imshow(image)  # if you wanted to show a single color channel image called 'gray', for example, call as plt.imshow(gray, cmap='gray')"
   ]
  },
  {
   "cell_type": "markdown",
   "metadata": {},
   "source": [
    "## Ideas for Lane Detection Pipeline"
   ]
  },
  {
   "cell_type": "markdown",
   "metadata": {},
   "source": [
    "**Some OpenCV functions (beyond those introduced in the lesson) that might be useful for this project are:**\n",
    "\n",
    "`cv2.inRange()` for color selection  \n",
    "`cv2.fillPoly()` for regions selection  \n",
    "`cv2.line()` to draw lines on an image given endpoints  \n",
    "`cv2.addWeighted()` to coadd / overlay two images\n",
    "`cv2.cvtColor()` to grayscale or change color\n",
    "`cv2.imwrite()` to output images to file  \n",
    "`cv2.bitwise_and()` to apply a mask to an image\n",
    "\n",
    "**Check out the OpenCV documentation to learn about these and discover even more awesome functionality!**"
   ]
  },
  {
   "cell_type": "markdown",
   "metadata": {},
   "source": [
    "## Helper Functions"
   ]
  },
  {
   "cell_type": "markdown",
   "metadata": {},
   "source": [
    "Below are some helper functions to help get you started. They should look familiar from the lesson!"
   ]
  },
  {
   "cell_type": "code",
   "execution_count": 2,
   "metadata": {},
   "outputs": [],
   "source": [
    "def grayscale(img):\n",
    "    \"\"\"\n",
    "    Applies the Grayscale transform\n",
    "    \"\"\"\n",
    "    return cv2.cvtColor(img, cv2.COLOR_RGB2GRAY)\n",
    "    # Or use BGR2GRAY if you read an image with cv2.imread()\n",
    "    # return cv2.cvtColor(img, cv2.COLOR_BGR2GRAY)\n",
    "    \n",
    "def canny(img, low_threshold, high_threshold):\n",
    "    \"\"\"\n",
    "    Applies the Canny transform\n",
    "    \"\"\"\n",
    "    return cv2.Canny(img, low_threshold, high_threshold)\n",
    "\n",
    "def gaussian_blur(img, kernel_size=3):\n",
    "    \"\"\"\n",
    "    Applies a Gaussian Noise kernel\n",
    "    \"\"\"\n",
    "    return cv2.GaussianBlur(img, (kernel_size, kernel_size), 0)\n",
    "\n",
    "def region_of_interest(img, vertices):\n",
    "    \"\"\"\n",
    "    Applies an image mask.\n",
    "    \n",
    "    Only keeps the region of the image defined by the polygon\n",
    "    formed from `vertices`. The rest of the image is set to black.\n",
    "    `vertices` should be a numpy array of integer points.\n",
    "    \"\"\"\n",
    "    #defining a blank mask to start with\n",
    "    mask = np.zeros_like(img)   \n",
    "    \n",
    "    #defining a 3 channel or 1 channel color to fill the mask with depending on the input image\n",
    "    if len(img.shape) > 2:\n",
    "        channel_count = img.shape[2]  # i.e. 3 or 4 depending on your image\n",
    "        ignore_mask_color = (255,) * channel_count\n",
    "    else:\n",
    "        ignore_mask_color = 255\n",
    "        \n",
    "    #filling pixels inside the polygon defined by \"vertices\" with the fill color    \n",
    "    cv2.fillPoly(mask, vertices, ignore_mask_color)\n",
    "    \n",
    "    #returning the image only where mask pixels are nonzero\n",
    "    masked_image = cv2.bitwise_and(img, mask)\n",
    "    return masked_image\n",
    "\n",
    "\n",
    "def draw_lines(img, lines, color=[255, 0, 0], thickness=10):\n",
    "    \"\"\"  \n",
    "    This function draws `lines` with `color` and `thickness`.    \n",
    "    Lines are drawn on the image inplace (mutates the image).\n",
    "    \"\"\"\n",
    "    for line in lines:\n",
    "        for x1,y1,x2,y2 in line:\n",
    "            cv2.line(img, (x1, y1), (x2, y2), color, thickness)\n",
    "\n",
    "def hough_lines(img, rho, theta, threshold, min_line_len, max_line_gap):\n",
    "    \"\"\"\n",
    "    `img` should be the output of an Edge detector.\n",
    "        \n",
    "    Returns an image with hough lines drawn and other with the raw lines.\n",
    "    \"\"\"\n",
    "    lines = cv2.HoughLinesP(img, rho, theta, threshold, np.array([]), minLineLength=min_line_len, maxLineGap=max_line_gap)\n",
    "    lines_merged = merge_lane_lines(lines,0.6*img.shape[0],img.shape[0])\n",
    "    \n",
    "    line_img = np.zeros((img.shape[0], img.shape[1], 3), dtype=np.uint8)\n",
    "    lines_img_raw = np.zeros((img.shape[0], img.shape[1], 3), dtype=np.uint8)\n",
    "    \n",
    "    draw_lines(line_img, lines_merged,[0, 255, 0],10)\n",
    "    draw_lines(lines_img_raw, lines,[0, 255, 0],2)\n",
    "    \n",
    "    return line_img,lines_img_raw\n",
    "\n",
    "# Python 3 has support for cool math symbols.\n",
    "\n",
    "def weighted_img(img, initial_img, α=0.8, β=1., γ=0.):\n",
    "    \"\"\"\n",
    "    `img` is the output of the hough_lines(), An image with lines drawn on it.\n",
    "    Should be a blank image (all black) with lines drawn on it.\n",
    "    \n",
    "    `initial_img` should be the image before any processing.\n",
    "    \n",
    "    The result image is computed as follows:\n",
    "    initial_img * α + img * β + γ\n",
    "    \"\"\"\n",
    "    return cv2.addWeighted(initial_img, α, img, β, γ)\n",
    "\n",
    "def get_slope_intercept(lines):\n",
    "    \"\"\"\n",
    "    Get slope and intercept for every line\n",
    "    \"\"\"\n",
    "    slopes = (lines[:,3] - lines[:,1]) / (lines[:,2] - lines[:,0] + 0.0000001)\n",
    "    intercepts = ((lines[:, 3] + lines[:, 1]) - slopes * (lines[:, 2] + lines[:, 0])) / 2\n",
    "    return slopes, intercepts\n",
    "\n",
    "def merge_lane_lines(lines,top,bottom):\n",
    "    \"\"\"\n",
    "    Merge the lines, filtering by their slope and intercept.\n",
    "    \n",
    "    Note that filtering by their mean is not necessary when the ROI is accurate,\n",
    "    in other cases, it helps.\n",
    "    \n",
    "    Returns the right and left lines\n",
    "    \"\"\"\n",
    "    #0. Define variables\n",
    "    top = int(top)\n",
    "    bottom = int(bottom)\n",
    "    \n",
    "    min_abs_slope = 0.4\n",
    "    max_abs_slope = 0.9\n",
    "    intercept_similarity_threshold = 20\n",
    "    slope_similarity_threshold = 0.1\n",
    "    \n",
    "    #1. Get Slopes and intercepts of each line\n",
    "    lines = lines[:,0,:]\n",
    "    slopes, intercepts = get_slope_intercept(lines)\n",
    "    \n",
    "    #2. Get each cluster (left and right) and compute their mean values\n",
    "    left_lines_idx = (slopes < -1*min_abs_slope) & (slopes > -1*max_abs_slope)\n",
    "    left_slopes = slopes[left_lines_idx]\n",
    "    left_intercepts = intercepts[left_lines_idx]\n",
    "    left_mean_slope = np.mean(left_slopes)\n",
    "    left_mean_intercepts = np.mean(left_intercepts)\n",
    "\n",
    "    right_lines_idx = (slopes > min_abs_slope) & (slopes < max_abs_slope)\n",
    "    right_slopes = slopes[right_lines_idx]\n",
    "    right_intercepts = intercepts[right_lines_idx]\n",
    "    right_mean_slope = np.mean(right_slopes)\n",
    "    right_mean_intercepts = np.mean(right_intercepts)\n",
    "    \n",
    "    #3. Filter the slope and intercept by their mean and compute the mean values and LPF\n",
    "    \"\"\"\n",
    "    filtered_left_lines_idx = (((left_slopes < left_mean_slope + slope_similarity_threshold) |\n",
    "                            (left_slopes > left_mean_slope - slope_similarity_threshold)) &\n",
    "                            ((left_intercepts < left_mean_intercepts + intercept_similarity_threshold) |\n",
    "                            (left_intercepts > left_mean_intercepts - intercept_similarity_threshold)))\n",
    "    \n",
    "    filtered_right_lines_idx = (((right_slopes < right_mean_slope + slope_similarity_threshold) |\n",
    "                            (right_slopes > right_mean_slope - slope_similarity_threshold)) &\n",
    "                            ((right_intercepts < right_mean_intercepts + intercept_similarity_threshold) |\n",
    "                            (right_intercepts > right_mean_intercepts - intercept_similarity_threshold)))\n",
    "    \n",
    "    left_mean_slope = np.mean(left_slopes[filtered_left_lines_idx])\n",
    "    left_mean_intercepts = np.mean(left_intercepts[filtered_left_lines_idx])\n",
    "    \n",
    "    right_mean_slope = np.mean(right_slopes[filtered_right_lines_idx])\n",
    "    right_mean_intercepts = np.mean(right_intercepts[filtered_right_lines_idx])\n",
    "    \"\"\"\n",
    "    \n",
    "    \n",
    "    lpf_slope_l,lpf_slope_r,lpf_inter_l,lpf_inter_r = lowPassFilter(left_mean_slope,right_mean_slope,\n",
    "                                                                    left_mean_intercepts,right_mean_intercepts)\n",
    "\n",
    "    #5. Compute the new lines using: x = (y - intercept) / slope    \n",
    "    left_line  = [int((top-lpf_inter_l)/lpf_slope_l),top,\n",
    "                  int((bottom-lpf_inter_l)/lpf_slope_l),bottom]\n",
    "    right_line = [int((top-lpf_inter_r)/lpf_slope_r),top,\n",
    "                  int((bottom-lpf_inter_r)/lpf_slope_r),bottom]\n",
    "        \n",
    "    return np.array([[left_line], [right_line]])\n",
    "\n",
    "def lowPassFilter(slope_left,slope_right,intercept_left,intercept_right):\n",
    "    \"\"\"\n",
    "    Low pass filter to get lines estability \n",
    "    \"\"\"\n",
    "    global prev_data_left_slope\n",
    "    global prev_data_right_slope\n",
    "    global prev_data_left_intercept\n",
    "    global prev_data_right_intercept\n",
    "    global update_index\n",
    "    global filter_order\n",
    "    global error\n",
    "    \n",
    "    if (math.isnan(slope_left) or math.isnan(slope_right)):\n",
    "        lpf_slope_left = prev_data_left_slope[update_index]\n",
    "        lpf_slope_right =  prev_data_right_slope[update_index]\n",
    "        lpf_intercept_left = prev_data_left_intercept[update_index]\n",
    "        lpf_intercept_right = prev_data_right_intercept[update_index]\n",
    "        error = True\n",
    "    \n",
    "    elif (update_index > 0 and (abs(slope_left-prev_data_left_slope[update_index-1]) > 0.1 or abs(slope_right-prev_data_right_slope[update_index-1]) > 0.1)):\n",
    "        lpf_slope_left = prev_data_left_slope[update_index]\n",
    "        lpf_slope_right =  prev_data_right_slope[update_index]\n",
    "        lpf_intercept_left = prev_data_left_intercept[update_index]\n",
    "        lpf_intercept_right = prev_data_right_intercept[update_index]\n",
    "        error = True\n",
    "    \n",
    "    else:\n",
    "        if (len(prev_data_left_slope) <= filter_order):\n",
    "            prev_data_left_slope.append(slope_left)\n",
    "            prev_data_right_slope.append(slope_right)\n",
    "            prev_data_left_intercept.append(intercept_left)\n",
    "            prev_data_right_intercept.append(intercept_right)\n",
    "            update_index += 1\n",
    "        else:\n",
    "            if (update_index >= filter_order):\n",
    "                update_index = 0\n",
    "            else:\n",
    "                update_index +=1\n",
    "            \n",
    "            prev_data_left_slope[update_index] = slope_left\n",
    "            prev_data_right_slope[update_index] = slope_right\n",
    "            prev_data_left_intercept[update_index] = intercept_left\n",
    "            prev_data_right_intercept[update_index] = intercept_right\n",
    "\n",
    "        lpf_slope_left = sum(prev_data_left_slope)/len(prev_data_left_slope)\n",
    "        lpf_slope_right = sum(prev_data_right_slope)/len(prev_data_right_slope)\n",
    "        lpf_intercept_left = sum(prev_data_left_intercept)/len(prev_data_left_intercept)\n",
    "        lpf_intercept_right = sum(prev_data_right_intercept)/len(prev_data_right_intercept)\n",
    "        error = False\n",
    "    \n",
    "    return lpf_slope_left,lpf_slope_right,lpf_intercept_left,lpf_intercept_right\n",
    "            \n",
    "    "
   ]
  },
  {
   "cell_type": "markdown",
   "metadata": {},
   "source": [
    "## Test Images\n",
    "\n",
    "Build your pipeline to work on the images in the directory \"test_images\"  \n",
    "**You should make sure your pipeline works well on these images before you try the videos.**"
   ]
  },
  {
   "cell_type": "code",
   "execution_count": 5,
   "metadata": {},
   "outputs": [
    {
     "data": {
      "text/plain": [
       "['solidWhiteRight.jpg',\n",
       " 'solidYellowCurve2.jpg',\n",
       " 'solidYellowCurve.jpg',\n",
       " 'solidWhiteCurve.jpg',\n",
       " 'solidYellowLeft.jpg',\n",
       " 'whiteCarLaneSwitch.jpg']"
      ]
     },
     "execution_count": 5,
     "metadata": {},
     "output_type": "execute_result"
    }
   ],
   "source": [
    "os.listdir(\"test_images/\")"
   ]
  },
  {
   "cell_type": "markdown",
   "metadata": {},
   "source": [
    "## Build a Lane Finding Pipeline\n",
    "\n"
   ]
  },
  {
   "cell_type": "markdown",
   "metadata": {},
   "source": [
    "Build the pipeline and run your solution on all test_images. Make copies into the `test_images_output` directory, and you can use the images in your writeup report.\n",
    "\n",
    "Try tuning the various parameters, especially the low and high Canny thresholds as well as the Hough lines parameters."
   ]
  },
  {
   "cell_type": "code",
   "execution_count": 49,
   "metadata": {
    "scrolled": true
   },
   "outputs": [],
   "source": [
    "def resetData():\n",
    "    global prev_data_left_slope\n",
    "    global prev_data_right_slope\n",
    "    global prev_data_left_intercept\n",
    "    global prev_data_right_intercept\n",
    "    global update_index\n",
    "    global filter_order\n",
    "    global error\n",
    "    \n",
    "    prev_data_left_slope = []\n",
    "    prev_data_right_slope = []\n",
    "    prev_data_left_intercept = []\n",
    "    prev_data_right_intercept = []\n",
    "    filter_order = 10\n",
    "    update_index = -1\n",
    "    error = False\n",
    "    \n",
    "    \n",
    "def process_image(image):\n",
    "    # NOTE: The output you return should be a color image (3 channel) for processing video below\n",
    "    \n",
    "    global error\n",
    "    \n",
    "    ## 1.Read in and grayscale the image\n",
    "    if not image.data:\n",
    "        return image\n",
    "    \n",
    "    gray = grayscale(image)\n",
    "    \n",
    "    # Uncomment to use HSV colors\n",
    "#    hsv_image = cv2.cvtColor(image, cv2.COLOR_RGB2HSV)\n",
    "\n",
    "#    white_threshold = ((60,0,130),(180,50,255))\n",
    "#    yellow_threshold = ((10,60,0),(30,255,255))\n",
    "\n",
    "#    white_mask = cv2.inRange(hsv_image, white_threshold[0], white_threshold[1])\n",
    "#    yellow_mask = cv2.inRange(hsv_image, yellow_threshold[0], yellow_threshold[1])\n",
    "\n",
    "#    color_mask = white_mask | yellow_mask\n",
    "\n",
    "    ## 2. Gaussian smoothing and Edge detection\n",
    "    kernel_size = 5\n",
    "    low_threshold = 50\n",
    "    high_threshold = 150\n",
    "\n",
    "    blur_gray =gaussian_blur(gray, kernel_size)\n",
    "    edges = canny(blur_gray, low_threshold, high_threshold)\n",
    "    \n",
    "    ## 3. Define region of interest\n",
    "    imshape = image.shape\n",
    "    vertices = np.array([[(0,imshape[0]),(0.47*imshape[1], 0.6*imshape[0]), (0.54*imshape[1], 0.6*imshape[0]), (imshape[1],imshape[0])]],dtype=np.int32)\n",
    "    roi_edges = region_of_interest(edges, vertices)\n",
    "    \n",
    "    #cv2.line(image,(0,imshape[0]),(450,320),(0,255,0),2)\n",
    "    #cv2.line(image,(450, 320), (520, 320),(0,255,0),2)\n",
    "    #cv2.line(image,(520,320), (imshape[1],imshape[0]),(0,255,0),2)\n",
    "    #cv2.line(image,(imshape[1],imshape[0]),(0,imshape[0]),(0,255,0),2)\n",
    "    #edges = cv2.cvtColor(edges, cv2.COLOR_GRAY2BGR)\n",
    "    #result = image\n",
    "    #result[np.where((edges==[255,255,255]).all(axis=2))] = [0,0,255]\n",
    "    #result = cv2.cvtColor(result, cv2.COLOR_BGR2RGB)\n",
    "    #cv2.imwrite(path_out+\"houhg.jpg\",result)\n",
    "\n",
    "    ## 4. Hough Transform\n",
    "    rho = 2              # distance resolution in pixels of the Hough grid\n",
    "    theta = np.pi/180    # angular resolution in radians of the Hough grid\n",
    "    threshold = 20       # minimum number of votes (intersections in Hough grid cell)\n",
    "    min_line_length = 25 #minimum number of pixels making up a line\n",
    "    max_line_gap = 10    # maximum gap in pixels between connectable line segments\n",
    "    \n",
    "    try:\n",
    "        line_image,lines_image_raw = hough_lines(roi_edges, rho, theta, threshold,min_line_length, max_line_gap)\n",
    "        result = weighted_img(line_image, image)\n",
    "        \n",
    "        # Uncomment to draw raw lines\n",
    "        result = image\n",
    "        result[np.where((lines_image_raw==[0,255,0]).all(axis=2))] = [0,255,0]\n",
    "        result = cv2.cvtColor(result, cv2.COLOR_BGR2RGB)\n",
    "        cv2.imwrite(path_out+\"houhg.jpg\",result)\n",
    "\n",
    "    \n",
    "        \n",
    "        if (error):\n",
    "            cv2.putText(result,'Error: Line detection',(10,30), cv2.FONT_HERSHEY_SIMPLEX, 1,(0,0,255),2,cv2.LINE_AA)\n",
    "    except:\n",
    "        result = image\n",
    "        cv2.putText(result,'Error: Unexpected',(10,30), cv2.FONT_HERSHEY_SIMPLEX, 1,(0,0,255),2,cv2.LINE_AA)\n",
    "        pass\n",
    "    \n",
    "    return result\n"
   ]
  },
  {
   "cell_type": "code",
   "execution_count": 50,
   "metadata": {},
   "outputs": [
    {
     "data": {
      "image/png": "[encoded data removed]",
      "text/plain": [
       "<Figure size 432x288 with 1 Axes>"
      ]
     },
     "metadata": {
      "needs_background": "light"
     },
     "output_type": "display_data"
    }
   ],
   "source": [
    "prev_data_left_slope = []\n",
    "prev_data_right_slope = []\n",
    "prev_data_left_intercept = []\n",
    "prev_data_right_intercept = []\n",
    "filter_order = 10\n",
    "update_index = -1\n",
    "error = False\n",
    "\n",
    "path_in = \"test_images/\"\n",
    "path_out = \"test_images_output/\"\n",
    "\n",
    "img_names = os.listdir(path_in)\n",
    "\n",
    "for img_name in img_names:\n",
    "    resetData()\n",
    "    image = cv2.imread(path_in+img_name)\n",
    "    image = cv2.cvtColor(image, cv2.COLOR_BGR2RGB)\n",
    "    \n",
    "    result = process_image(image)\n",
    "    \n",
    "    plt.figure()\n",
    "    plt.imshow(result)\n",
    "    \n",
    "    break\n",
    "    \n",
    "    #Uncomment to save the images\n",
    "    #result = cv2.cvtColor(result, cv2.COLOR_RGB2BGR)\n",
    "    #cv2.imwrite(path_out+\"raw_lines_\"+img_name,result)"
   ]
  },
  {
   "cell_type": "markdown",
   "metadata": {},
   "source": [
    "## Test on Videos\n",
    "\n",
    "You know what's cooler than drawing lanes over images? Drawing lanes over video!\n",
    "\n",
    "We can test our solution on two provided videos:\n",
    "\n",
    "`solidWhiteRight.mp4`\n",
    "\n",
    "`solidYellowLeft.mp4`\n",
    "\n",
    "**Note: if you get an import error when you run the next cell, try changing your kernel (select the Kernel menu above --> Change Kernel). Still have problems? Try relaunching Jupyter Notebook from the terminal prompt. Also, consult the forums for more troubleshooting tips.**\n",
    "\n",
    "**If you get an error that looks like this:**\n",
    "```\n",
    "NeedDownloadError: Need ffmpeg exe. \n",
    "You can download it by calling: \n",
    "imageio.plugins.ffmpeg.download()\n",
    "```\n",
    "**Follow the instructions in the error message and check out [this forum post](https://discussions.udacity.com/t/project-error-of-test-on-videos/274082) for more troubleshooting tips across operating systems.**"
   ]
  },
  {
   "cell_type": "code",
   "execution_count": 11,
   "metadata": {},
   "outputs": [],
   "source": [
    "# Import everything needed to edit/save/watch video clips\n",
    "from moviepy.editor import VideoFileClip\n",
    "from IPython.display import HTML"
   ]
  },
  {
   "cell_type": "markdown",
   "metadata": {},
   "source": [
    "Let's try the one with the solid white lane on the right first ..."
   ]
  },
  {
   "cell_type": "code",
   "execution_count": 119,
   "metadata": {},
   "outputs": [
    {
     "name": "stdout",
     "output_type": "stream",
     "text": [
      "[MoviePy] >>>> Building video test_videos_output/solidWhiteRight_raw_lines.mp4\n",
      "[MoviePy] Writing video test_videos_output/solidWhiteRight_raw_lines.mp4\n"
     ]
    },
    {
     "name": "stderr",
     "output_type": "stream",
     "text": [
      "100%|█████████▉| 221/222 [00:17<00:00, 11.29it/s]\n"
     ]
    },
    {
     "name": "stdout",
     "output_type": "stream",
     "text": [
      "[MoviePy] Done.\n",
      "[MoviePy] >>>> Video ready: test_videos_output/solidWhiteRight_raw_lines.mp4 \n",
      "\n",
      "CPU times: user 6.53 s, sys: 241 ms, total: 6.77 s\n",
      "Wall time: 19.6 s\n"
     ]
    }
   ],
   "source": [
    "resetData()\n",
    "white_output = 'test_videos_output/solidWhiteRight.mp4'\n",
    "## To speed up the testing process you may want to try your pipeline on a shorter subclip of the video\n",
    "## To do so add .subclip(start_second,end_second) to the end of the line below\n",
    "## Where start_second and end_second are integer values representing the start and end of the subclip\n",
    "## You may also uncomment the following line for a subclip of the first 5 seconds\n",
    "##clip1 = VideoFileClip(\"test_videos/solidWhiteRight.mp4\").subclip(0,5)\n",
    "clip1 = VideoFileClip(\"test_videos/solidWhiteRight.mp4\")\n",
    "white_clip = clip1.fl_image(process_image) #NOTE: this function expects color images!!\n",
    "%time white_clip.write_videofile(white_output, audio=False)"
   ]
  },
  {
   "cell_type": "markdown",
   "metadata": {},
   "source": [
    "Play the video inline, or if you prefer find the video in your filesystem (should be in the same directory) and play it in your video player of choice."
   ]
  },
  {
   "cell_type": "code",
   "execution_count": null,
   "metadata": {},
   "outputs": [],
   "source": [
    "HTML(\"\"\"\n",
    "<video width=\"960\" height=\"540\" controls>\n",
    "  <source src=\"{0}\">\n",
    "</video>\n",
    "\"\"\".format(white_output))"
   ]
  },
  {
   "cell_type": "markdown",
   "metadata": {},
   "source": [
    "## Improve the draw_lines() function\n",
    "\n",
    "**At this point, if you were successful with making the pipeline and tuning parameters, you probably have the Hough line segments drawn onto the road, but what about identifying the full extent of the lane and marking it clearly as in the example video (P1_example.mp4)?  Think about defining a line to run the full length of the visible lane based on the line segments you identified with the Hough Transform. As mentioned previously, try to average and/or extrapolate the line segments you've detected to map out the full extent of the lane lines. You can see an example of the result you're going for in the video \"P1_example.mp4\".**\n",
    "\n",
    "**Go back and modify your draw_lines function accordingly and try re-running your pipeline. The new output should draw a single, solid line over the left lane line and a single, solid line over the right lane line. The lines should start from the bottom of the image and extend out to the top of the region of interest.**"
   ]
  },
  {
   "cell_type": "markdown",
   "metadata": {},
   "source": [
    "Now for the one with the solid yellow lane on the left. This one's more tricky!"
   ]
  },
  {
   "cell_type": "code",
   "execution_count": 14,
   "metadata": {},
   "outputs": [
    {
     "name": "stderr",
     "output_type": "stream",
     "text": [
      "t:  94%|█████████▍| 642/681 [01:58<00:00, 42.27it/s, now=None]\n",
      "t:   0%|          | 0/681 [00:00<?, ?it/s, now=None]\u001b[A\n",
      "t:   1%|          | 6/681 [00:00<00:11, 57.52it/s, now=None]\u001b[A"
     ]
    },
    {
     "name": "stdout",
     "output_type": "stream",
     "text": [
      "Moviepy - Building video test_videos_output/solidYellowLeft.mp4.\n",
      "Moviepy - Writing video test_videos_output/solidYellowLeft.mp4\n",
      "\n"
     ]
    },
    {
     "name": "stderr",
     "output_type": "stream",
     "text": [
      "\n",
      "t:   2%|▏         | 14/681 [00:00<00:10, 61.41it/s, now=None]\u001b[A\n",
      "t:   3%|▎         | 21/681 [00:00<00:10, 62.91it/s, now=None]\u001b[A\n",
      "t:   4%|▍         | 29/681 [00:00<00:09, 66.42it/s, now=None]\u001b[A\n",
      "t:   6%|▌         | 38/681 [00:00<00:09, 71.43it/s, now=None]\u001b[A\n",
      "t:   7%|▋         | 46/681 [00:00<00:08, 72.82it/s, now=None]\u001b[A\n",
      "t:   8%|▊         | 53/681 [00:00<00:12, 51.90it/s, now=None]\u001b[A\n",
      "t:   9%|▊         | 59/681 [00:01<00:13, 46.62it/s, now=None]\u001b[A\n",
      "t:  10%|▉         | 65/681 [00:01<00:13, 46.47it/s, now=None]\u001b[A\n",
      "t:  10%|█         | 70/681 [00:01<00:15, 40.17it/s, now=None]\u001b[A\n",
      "t:  11%|█         | 75/681 [00:01<00:15, 39.82it/s, now=None]\u001b[A\n",
      "t:  12%|█▏        | 80/681 [00:01<00:15, 39.86it/s, now=None]\u001b[A\n",
      "t:  12%|█▏        | 85/681 [00:01<00:15, 38.07it/s, now=None]\u001b[A\n",
      "t:  13%|█▎        | 89/681 [00:01<00:15, 38.32it/s, now=None]\u001b[A\n",
      "t:  14%|█▎        | 93/681 [00:01<00:16, 36.73it/s, now=None]\u001b[A\n",
      "t:  14%|█▍        | 98/681 [00:02<00:14, 39.25it/s, now=None]\u001b[A\n",
      "t:  15%|█▌        | 103/681 [00:02<00:15, 37.51it/s, now=None]\u001b[A\n",
      "t:  16%|█▌        | 107/681 [00:02<00:15, 37.18it/s, now=None]\u001b[A\n",
      "t:  16%|█▋        | 111/681 [00:02<00:15, 36.14it/s, now=None]\u001b[A\n",
      "t:  17%|█▋        | 115/681 [00:02<00:15, 36.43it/s, now=None]\u001b[A\n",
      "t:  17%|█▋        | 119/681 [00:02<00:15, 37.13it/s, now=None]\u001b[A\n",
      "t:  18%|█▊        | 123/681 [00:02<00:15, 36.74it/s, now=None]\u001b[A\n",
      "t:  19%|█▊        | 127/681 [00:02<00:15, 36.80it/s, now=None]\u001b[A\n",
      "t:  19%|█▉        | 131/681 [00:02<00:15, 35.47it/s, now=None]\u001b[A\n",
      "t:  20%|█▉        | 135/681 [00:03<00:16, 32.91it/s, now=None]\u001b[A\n",
      "t:  20%|██        | 139/681 [00:03<00:15, 33.91it/s, now=None]\u001b[A\n",
      "t:  21%|██        | 144/681 [00:03<00:14, 36.49it/s, now=None]\u001b[A\n",
      "t:  22%|██▏       | 148/681 [00:03<00:14, 36.04it/s, now=None]\u001b[A\n",
      "t:  22%|██▏       | 152/681 [00:03<00:14, 35.41it/s, now=None]\u001b[A\n",
      "t:  23%|██▎       | 156/681 [00:03<00:14, 36.29it/s, now=None]\u001b[A\n",
      "t:  23%|██▎       | 160/681 [00:03<00:14, 36.51it/s, now=None]\u001b[A\n",
      "t:  24%|██▍       | 165/681 [00:03<00:13, 37.63it/s, now=None]\u001b[A\n",
      "t:  25%|██▍       | 169/681 [00:04<00:14, 35.45it/s, now=None]\u001b[A\n",
      "t:  26%|██▌       | 174/681 [00:04<00:14, 36.15it/s, now=None]\u001b[A\n",
      "t:  26%|██▌       | 178/681 [00:04<00:14, 33.69it/s, now=None]\u001b[A\n",
      "t:  27%|██▋       | 182/681 [00:04<00:14, 34.28it/s, now=None]\u001b[A\n",
      "t:  27%|██▋       | 186/681 [00:04<00:15, 32.29it/s, now=None]\u001b[A\n",
      "t:  28%|██▊       | 190/681 [00:04<00:15, 31.51it/s, now=None]\u001b[A\n",
      "t:  28%|██▊       | 194/681 [00:04<00:14, 33.42it/s, now=None]\u001b[A\n",
      "t:  29%|██▉       | 198/681 [00:04<00:14, 32.49it/s, now=None]\u001b[A\n",
      "t:  30%|██▉       | 202/681 [00:05<00:14, 33.54it/s, now=None]\u001b[A\n",
      "t:  30%|███       | 206/681 [00:05<00:13, 34.01it/s, now=None]\u001b[A\n",
      "t:  31%|███       | 210/681 [00:05<00:14, 33.00it/s, now=None]\u001b[A\n",
      "t:  31%|███▏      | 214/681 [00:05<00:16, 29.16it/s, now=None]\u001b[A\n",
      "t:  32%|███▏      | 218/681 [00:05<00:15, 30.12it/s, now=None]\u001b[A\n",
      "t:  33%|███▎      | 223/681 [00:05<00:14, 32.02it/s, now=None]\u001b[A\n",
      "t:  33%|███▎      | 227/681 [00:05<00:13, 33.58it/s, now=None]\u001b[A\n",
      "t:  34%|███▍      | 231/681 [00:05<00:12, 35.04it/s, now=None]\u001b[A\n",
      "t:  35%|███▍      | 235/681 [00:06<00:12, 34.74it/s, now=None]\u001b[A\n",
      "t:  35%|███▌      | 239/681 [00:06<00:12, 34.34it/s, now=None]\u001b[A\n",
      "t:  36%|███▌      | 243/681 [00:06<00:12, 35.32it/s, now=None]\u001b[A\n",
      "t:  36%|███▋      | 247/681 [00:06<00:12, 35.48it/s, now=None]\u001b[A\n",
      "t:  37%|███▋      | 251/681 [00:06<00:12, 35.11it/s, now=None]\u001b[A\n",
      "t:  37%|███▋      | 255/681 [00:06<00:12, 34.96it/s, now=None]\u001b[A\n",
      "t:  38%|███▊      | 260/681 [00:06<00:11, 37.32it/s, now=None]\u001b[A\n",
      "t:  39%|███▉      | 264/681 [00:06<00:11, 35.35it/s, now=None]\u001b[A\n",
      "t:  39%|███▉      | 268/681 [00:06<00:11, 35.36it/s, now=None]\u001b[A\n",
      "t:  40%|███▉      | 272/681 [00:07<00:11, 34.11it/s, now=None]\u001b[A\n",
      "t:  41%|████      | 277/681 [00:07<00:11, 35.08it/s, now=None]\u001b[A\n",
      "t:  41%|████▏     | 282/681 [00:07<00:10, 36.69it/s, now=None]\u001b[A\n",
      "t:  42%|████▏     | 286/681 [00:07<00:11, 35.35it/s, now=None]\u001b[A\n",
      "t:  43%|████▎     | 291/681 [00:07<00:10, 37.29it/s, now=None]\u001b[A\n",
      "t:  43%|████▎     | 295/681 [00:07<00:11, 33.47it/s, now=None]\u001b[A\n",
      "t:  44%|████▍     | 299/681 [00:07<00:11, 34.10it/s, now=None]\u001b[A\n",
      "t:  45%|████▍     | 304/681 [00:07<00:10, 34.52it/s, now=None]\u001b[A\n",
      "t:  45%|████▌     | 308/681 [00:08<00:10, 34.45it/s, now=None]\u001b[A\n",
      "t:  46%|████▌     | 312/681 [00:08<00:10, 34.16it/s, now=None]\u001b[A\n",
      "t:  46%|████▋     | 316/681 [00:08<00:10, 34.03it/s, now=None]\u001b[A\n",
      "t:  47%|████▋     | 321/681 [00:08<00:09, 36.80it/s, now=None]\u001b[A\n",
      "t:  48%|████▊     | 325/681 [00:08<00:09, 35.76it/s, now=None]\u001b[A\n",
      "t:  48%|████▊     | 329/681 [00:08<00:09, 36.10it/s, now=None]\u001b[A\n",
      "t:  49%|████▉     | 333/681 [00:08<00:09, 35.92it/s, now=None]\u001b[A\n",
      "t:  49%|████▉     | 337/681 [00:08<00:09, 35.65it/s, now=None]\u001b[A\n",
      "t:  50%|█████     | 341/681 [00:09<00:10, 33.64it/s, now=None]\u001b[A\n",
      "t:  51%|█████     | 345/681 [00:09<00:10, 33.47it/s, now=None]\u001b[A\n",
      "t:  51%|█████     | 349/681 [00:09<00:10, 30.33it/s, now=None]\u001b[A\n",
      "t:  52%|█████▏    | 354/681 [00:09<00:09, 33.20it/s, now=None]\u001b[A\n",
      "t:  53%|█████▎    | 358/681 [00:09<00:10, 30.09it/s, now=None]\u001b[A\n",
      "t:  53%|█████▎    | 362/681 [00:09<00:10, 30.50it/s, now=None]\u001b[A\n",
      "t:  54%|█████▎    | 366/681 [00:09<00:10, 29.87it/s, now=None]\u001b[A\n",
      "t:  54%|█████▍    | 370/681 [00:09<00:09, 32.05it/s, now=None]\u001b[A\n",
      "t:  55%|█████▍    | 374/681 [00:10<00:10, 30.11it/s, now=None]\u001b[A\n",
      "t:  56%|█████▌    | 378/681 [00:10<00:09, 32.50it/s, now=None]\u001b[A\n",
      "t:  56%|█████▌    | 382/681 [00:10<00:09, 31.30it/s, now=None]\u001b[A\n",
      "t:  57%|█████▋    | 387/681 [00:10<00:08, 33.89it/s, now=None]\u001b[A\n",
      "t:  57%|█████▋    | 391/681 [00:10<00:09, 30.43it/s, now=None]\u001b[A\n",
      "t:  58%|█████▊    | 395/681 [00:10<00:08, 32.47it/s, now=None]\u001b[A\n",
      "t:  59%|█████▊    | 400/681 [00:10<00:07, 35.86it/s, now=None]\u001b[A\n",
      "t:  59%|█████▉    | 404/681 [00:10<00:07, 35.35it/s, now=None]\u001b[A\n",
      "t:  60%|█████▉    | 408/681 [00:11<00:07, 35.88it/s, now=None]\u001b[A\n",
      "t:  60%|██████    | 412/681 [00:11<00:07, 34.08it/s, now=None]\u001b[A\n",
      "t:  61%|██████    | 416/681 [00:11<00:07, 34.21it/s, now=None]\u001b[A\n",
      "t:  62%|██████▏   | 421/681 [00:11<00:07, 35.67it/s, now=None]\u001b[A\n",
      "t:  62%|██████▏   | 425/681 [00:11<00:06, 36.69it/s, now=None]\u001b[A\n",
      "t:  63%|██████▎   | 429/681 [00:11<00:07, 35.63it/s, now=None]\u001b[A\n",
      "t:  64%|██████▎   | 433/681 [00:11<00:07, 34.08it/s, now=None]\u001b[A\n",
      "t:  64%|██████▍   | 437/681 [00:11<00:07, 34.17it/s, now=None]\u001b[A\n",
      "t:  65%|██████▍   | 441/681 [00:12<00:07, 33.45it/s, now=None]\u001b[A\n",
      "t:  65%|██████▌   | 446/681 [00:12<00:06, 35.81it/s, now=None]\u001b[A\n",
      "t:  66%|██████▌   | 450/681 [00:12<00:06, 34.94it/s, now=None]\u001b[A\n",
      "t:  67%|██████▋   | 455/681 [00:12<00:06, 35.73it/s, now=None]\u001b[A\n",
      "t:  67%|██████▋   | 459/681 [00:12<00:06, 35.51it/s, now=None]\u001b[A\n",
      "t:  68%|██████▊   | 463/681 [00:12<00:05, 36.68it/s, now=None]\u001b[A\n",
      "t:  69%|██████▊   | 467/681 [00:12<00:06, 35.12it/s, now=None]\u001b[A\n",
      "t:  69%|██████▉   | 472/681 [00:12<00:05, 37.46it/s, now=None]\u001b[A\n",
      "t:  70%|██████▉   | 476/681 [00:12<00:05, 36.00it/s, now=None]\u001b[A\n",
      "t:  70%|███████   | 480/681 [00:13<00:05, 36.71it/s, now=None]\u001b[A\n",
      "t:  71%|███████   | 484/681 [00:13<00:05, 36.71it/s, now=None]\u001b[A\n",
      "t:  72%|███████▏  | 488/681 [00:13<00:05, 33.47it/s, now=None]\u001b[A\n",
      "t:  72%|███████▏  | 493/681 [00:13<00:05, 35.40it/s, now=None]\u001b[A\n",
      "t:  73%|███████▎  | 497/681 [00:13<00:05, 31.03it/s, now=None]\u001b[A\n",
      "t:  74%|███████▎  | 501/681 [00:13<00:05, 30.73it/s, now=None]\u001b[A\n",
      "t:  74%|███████▍  | 505/681 [00:13<00:05, 32.89it/s, now=None]\u001b[A\n",
      "t:  75%|███████▍  | 509/681 [00:13<00:05, 32.98it/s, now=None]\u001b[A\n",
      "t:  75%|███████▌  | 513/681 [00:14<00:05, 33.47it/s, now=None]\u001b[A\n",
      "t:  76%|███████▌  | 517/681 [00:14<00:04, 34.46it/s, now=None]\u001b[A\n",
      "t:  77%|███████▋  | 522/681 [00:14<00:04, 34.94it/s, now=None]\u001b[A\n",
      "t:  77%|███████▋  | 526/681 [00:14<00:04, 34.39it/s, now=None]\u001b[A\n",
      "t:  78%|███████▊  | 530/681 [00:14<00:04, 35.37it/s, now=None]\u001b[A\n",
      "t:  78%|███████▊  | 534/681 [00:14<00:04, 36.33it/s, now=None]\u001b[A\n",
      "t:  79%|███████▉  | 539/681 [00:14<00:03, 37.27it/s, now=None]\u001b[A\n",
      "t:  80%|███████▉  | 543/681 [00:14<00:03, 36.06it/s, now=None]\u001b[A\n",
      "t:  80%|████████  | 548/681 [00:15<00:03, 37.60it/s, now=None]\u001b[A\n",
      "t:  81%|████████  | 553/681 [00:15<00:03, 38.73it/s, now=None]\u001b[A\n",
      "t:  82%|████████▏ | 557/681 [00:15<00:03, 39.06it/s, now=None]\u001b[A\n",
      "t:  83%|████████▎ | 562/681 [00:15<00:02, 39.89it/s, now=None]\u001b[A\n",
      "t:  83%|████████▎ | 567/681 [00:15<00:02, 40.37it/s, now=None]\u001b[A\n",
      "t:  84%|████████▍ | 572/681 [00:15<00:02, 38.50it/s, now=None]\u001b[A\n",
      "t:  85%|████████▍ | 576/681 [00:15<00:02, 37.93it/s, now=None]\u001b[A\n",
      "t:  85%|████████▌ | 580/681 [00:15<00:02, 37.56it/s, now=None]\u001b[A\n",
      "t:  86%|████████▌ | 584/681 [00:15<00:02, 37.17it/s, now=None]\u001b[A\n",
      "t:  86%|████████▋ | 589/681 [00:16<00:02, 38.90it/s, now=None]\u001b[A\n",
      "t:  87%|████████▋ | 593/681 [00:16<00:02, 37.52it/s, now=None]\u001b[A\n",
      "t:  88%|████████▊ | 598/681 [00:16<00:02, 38.77it/s, now=None]\u001b[A\n",
      "t:  89%|████████▊ | 603/681 [00:16<00:01, 40.09it/s, now=None]\u001b[A\n",
      "t:  89%|████████▉ | 608/681 [00:16<00:01, 38.54it/s, now=None]\u001b[A\n",
      "t:  90%|█████████ | 613/681 [00:16<00:01, 41.29it/s, now=None]\u001b[A\n",
      "t:  91%|█████████ | 618/681 [00:16<00:01, 41.25it/s, now=None]\u001b[A\n",
      "t:  92%|█████████▏| 624/681 [00:16<00:01, 43.83it/s, now=None]\u001b[A\n",
      "t:  92%|█████████▏| 629/681 [00:17<00:01, 40.93it/s, now=None]\u001b[A\n",
      "t:  93%|█████████▎| 634/681 [00:17<00:01, 39.33it/s, now=None]\u001b[A\n",
      "t:  94%|█████████▍| 639/681 [00:17<00:01, 38.10it/s, now=None]\u001b[A\n",
      "t:  95%|█████████▍| 644/681 [00:17<00:00, 39.12it/s, now=None]\u001b[A\n",
      "t:  95%|█████████▌| 649/681 [00:17<00:00, 40.93it/s, now=None]\u001b[A\n",
      "t:  96%|█████████▌| 654/681 [00:17<00:00, 40.31it/s, now=None]\u001b[A\n",
      "t:  97%|█████████▋| 659/681 [00:17<00:00, 40.17it/s, now=None]\u001b[A\n",
      "t:  98%|█████████▊| 664/681 [00:17<00:00, 41.45it/s, now=None]\u001b[A\n",
      "t:  98%|█████████▊| 669/681 [00:18<00:00, 41.09it/s, now=None]\u001b[A\n",
      "t:  99%|█████████▉| 674/681 [00:18<00:00, 40.13it/s, now=None]\u001b[A\n",
      "t: 100%|█████████▉| 679/681 [00:18<00:00, 41.06it/s, now=None]\u001b[A\n",
      "t:  94%|█████████▍| 642/681 [02:17<00:00, 42.27it/s, now=None]\u001b[A"
     ]
    },
    {
     "name": "stdout",
     "output_type": "stream",
     "text": [
      "Moviepy - Done !\n",
      "Moviepy - video ready test_videos_output/solidYellowLeft.mp4\n",
      "CPU times: user 12.4 s, sys: 669 ms, total: 13.1 s\n",
      "Wall time: 19.1 s\n"
     ]
    }
   ],
   "source": [
    "resetData()\n",
    "yellow_output = 'test_videos_output/solidYellowLeft.mp4'\n",
    "## To speed up the testing process you may want to try your pipeline on a shorter subclip of the video\n",
    "## To do so add .subclip(start_second,end_second) to the end of the line below\n",
    "## Where start_second and end_second are integer values representing the start and end of the subclip\n",
    "## You may also uncomment the following line for a subclip of the first 5 seconds\n",
    "##clip2 = VideoFileClip('test_videos/solidYellowLeft.mp4').subclip(0,5)\n",
    "clip2 = VideoFileClip('test_videos/solidYellowLeft.mp4')\n",
    "yellow_clip = clip2.fl_image(process_image)\n",
    "%time yellow_clip.write_videofile(yellow_output, audio=False)"
   ]
  },
  {
   "cell_type": "code",
   "execution_count": null,
   "metadata": {},
   "outputs": [],
   "source": [
    "HTML(\"\"\"\n",
    "<video width=\"960\" height=\"540\" controls>\n",
    "  <source src=\"{0}\">\n",
    "</video>\n",
    "\"\"\".format(yellow_output))"
   ]
  },
  {
   "cell_type": "markdown",
   "metadata": {},
   "source": [
    "## Writeup and Submission\n",
    "\n",
    "If you're satisfied with your video outputs, it's time to make the report writeup in a pdf or markdown file. Once you have this Ipython notebook ready along with the writeup, it's time to submit for review! Here is a [link](https://github.com/udacity/CarND-LaneLines-P1/blob/master/writeup_template.md) to the writeup template file.\n"
   ]
  },
  {
   "cell_type": "markdown",
   "metadata": {
    "collapsed": true
   },
   "source": [
    "## Optional Challenge\n",
    "\n",
    "Try your lane finding pipeline on the video below.  Does it still work?  Can you figure out a way to make it more robust?  If you're up for the challenge, modify your pipeline so it works with this video and submit it along with the rest of your project!"
   ]
  },
  {
   "cell_type": "code",
   "execution_count": 121,
   "metadata": {},
   "outputs": [
    {
     "name": "stdout",
     "output_type": "stream",
     "text": [
      "[MoviePy] >>>> Building video test_videos_output/challenge_raw_lines.mp4\n",
      "[MoviePy] Writing video test_videos_output/challenge_raw_lines.mp4\n"
     ]
    },
    {
     "name": "stderr",
     "output_type": "stream",
     "text": [
      "100%|██████████| 251/251 [00:42<00:00,  5.68it/s]\n"
     ]
    },
    {
     "name": "stdout",
     "output_type": "stream",
     "text": [
      "[MoviePy] Done.\n",
      "[MoviePy] >>>> Video ready: test_videos_output/challenge_raw_lines.mp4 \n",
      "\n",
      "CPU times: user 13.9 s, sys: 448 ms, total: 14.3 s\n",
      "Wall time: 46.3 s\n"
     ]
    }
   ],
   "source": [
    "resetData()\n",
    "challenge_output = 'test_videos_output/challenge.mp4'\n",
    "## To speed up the testing process you may want to try your pipeline on a shorter subclip of the video\n",
    "## To do so add .subclip(start_second,end_second) to the end of the line below\n",
    "## Where start_second and end_second are integer values representing the start and end of the subclip\n",
    "## You may also uncomment the following line for a subclip of the first 5 seconds\n",
    "##clip3 = VideoFileClip('test_videos/challenge.mp4').subclip(0,5)\n",
    "clip3 = VideoFileClip('test_videos/challenge.mp4')\n",
    "challenge_clip = clip3.fl_image(process_image)\n",
    "%time challenge_clip.write_videofile(challenge_output, audio=False)"
   ]
  },
  {
   "cell_type": "code",
   "execution_count": null,
   "metadata": {},
   "outputs": [],
   "source": [
    "HTML(\"\"\"\n",
    "<video width=\"960\" height=\"540\" controls>\n",
    "  <source src=\"{0}\">\n",
    "</video>\n",
    "\"\"\".format(challenge_output))"
   ]
  }
 ],
 "metadata": {
  "anaconda-cloud": {},
  "kernelspec": {
   "display_name": "Python 3",
   "language": "python",
   "name": "python3"
  },
  "language_info": {
   "codemirror_mode": {
    "name": "ipython",
    "version": 3
   },
   "file_extension": ".py",
   "mimetype": "text/x-python",
   "name": "python",
   "nbconvert_exporter": "python",
   "pygments_lexer": "ipython3",
   "version": "3.6.8"
  }
 },
 "nbformat": 4,
 "nbformat_minor": 1
}
